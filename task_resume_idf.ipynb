{
  "metadata": {
    "kernelspec": {
      "language": "python",
      "display_name": "Python 3",
      "name": "python3"
    },
    "language_info": {
      "name": "python",
      "version": "3.10.12",
      "mimetype": "text/x-python",
      "codemirror_mode": {
        "name": "ipython",
        "version": 3
      },
      "pygments_lexer": "ipython3",
      "nbconvert_exporter": "python",
      "file_extension": ".py"
    },
    "colab": {
      "provenance": []
    }
  },
  "nbformat_minor": 0,
  "nbformat": 4,
  "cells": [
    {
      "cell_type": "markdown",
      "source": [
        "# Two dataset is used here\n",
        "dataset 1 result id quite good as compare to dataset 2"
      ],
      "metadata": {
        "id": "xR16lbise5JB"
      }
    },
    {
      "cell_type": "code",
      "source": [
        "# This Python 3 environment comes with many helpful analytics libraries installed\n",
        "# It is defined by the kaggle/python Docker image: https://github.com/kaggle/docker-python\n",
        "# For example, here's several helpful packages to load\n",
        "\n",
        "import numpy as np # linear algebra\n",
        "import pandas as pd # data processing, CSV file I/O (e.g. pd.read_csv)\n",
        "\n",
        "# Input data files are available in the read-only \"../input/\" directory\n",
        "# For example, running this (by clicking run or pressing Shift+Enter) will list all files under the input directory\n",
        "\n",
        "import os\n",
        "for dirname, _, filenames in os.walk('/kaggle/input'):\n",
        "    for filename in filenames:\n",
        "        print(os.path.join(dirname, filename))\n",
        "\n",
        "# You can write up to 20GB to the current directory (/kaggle/working/) that gets preserved as output when you create a version using \"Save & Run All\"\n",
        "# You can also write temporary files to /kaggle/temp/, but they won't be saved outside of the current session"
      ],
      "metadata": {
        "_uuid": "8f2839f25d086af736a60e9eeb907d3b93b6e0e5",
        "_cell_guid": "b1076dfc-b9ad-4769-8c92-a6c4dae69d19",
        "trusted": true,
        "id": "TBbSfkz-dUkE"
      },
      "execution_count": null,
      "outputs": []
    },
    {
      "cell_type": "code",
      "source": [
        "!pip install transformers"
      ],
      "metadata": {
        "execution": {
          "iopub.status.idle": "2023-09-13T10:24:54.834766Z",
          "shell.execute_reply.started": "2023-09-13T10:24:39.191961Z",
          "shell.execute_reply": "2023-09-13T10:24:54.833270Z"
        },
        "trusted": true,
        "id": "Zh96DMBFdUkP",
        "outputId": "13071918-bc30-4293-ff7e-0ca92b74dbe1"
      },
      "execution_count": null,
      "outputs": [
        {
          "name": "stdout",
          "text": "Note: you may need to restart the kernel to use updated packages.\n",
          "output_type": "stream"
        }
      ]
    },
    {
      "cell_type": "markdown",
      "source": [
        "# Job Discription dataset1 apply (Term Frequency- Inverse Document Frequency)"
      ],
      "metadata": {
        "id": "oGbgyKhddsE2"
      }
    },
    {
      "cell_type": "code",
      "source": [
        "import pandas as pd\n",
        "\n",
        "df=pd.read_csv('/kaggle/input/resume-dataset/UpdatedResumeDataSet.csv')\n",
        "df"
      ],
      "metadata": {
        "execution": {
          "iopub.status.busy": "2023-09-13T10:24:55.102385Z",
          "iopub.execute_input": "2023-09-13T10:24:55.102838Z",
          "iopub.status.idle": "2023-09-13T10:24:55.630850Z",
          "shell.execute_reply.started": "2023-09-13T10:24:55.102802Z",
          "shell.execute_reply": "2023-09-13T10:24:55.629908Z"
        },
        "trusted": true,
        "id": "1CqPCgSqdUkS",
        "outputId": "7018cf6f-c23c-4ef3-efec-51a948f0823b"
      },
      "execution_count": null,
      "outputs": [
        {
          "execution_count": 2,
          "output_type": "execute_result",
          "data": {
            "text/plain": "         Category                                             Resume\n0    Data Science  Skills * Programming Languages: Python (pandas...\n1    Data Science  Education Details \\r\\nMay 2013 to May 2017 B.E...\n2    Data Science  Areas of Interest Deep Learning, Control Syste...\n3    Data Science  Skills â¢ R â¢ Python â¢ SAP HANA â¢ Table...\n4    Data Science  Education Details \\r\\n MCA   YMCAUST,  Faridab...\n..            ...                                                ...\n957       Testing  Computer Skills: â¢ Proficient in MS office (...\n958       Testing  â Willingness to accept the challenges. â ...\n959       Testing  PERSONAL SKILLS â¢ Quick learner, â¢ Eagerne...\n960       Testing  COMPUTER SKILLS & SOFTWARE KNOWLEDGE MS-Power ...\n961       Testing  Skill Set OS Windows XP/7/8/8.1/10 Database MY...\n\n[962 rows x 2 columns]",
            "text/html": "<div>\n<style scoped>\n    .dataframe tbody tr th:only-of-type {\n        vertical-align: middle;\n    }\n\n    .dataframe tbody tr th {\n        vertical-align: top;\n    }\n\n    .dataframe thead th {\n        text-align: right;\n    }\n</style>\n<table border=\"1\" class=\"dataframe\">\n  <thead>\n    <tr style=\"text-align: right;\">\n      <th></th>\n      <th>Category</th>\n      <th>Resume</th>\n    </tr>\n  </thead>\n  <tbody>\n    <tr>\n      <th>0</th>\n      <td>Data Science</td>\n      <td>Skills * Programming Languages: Python (pandas...</td>\n    </tr>\n    <tr>\n      <th>1</th>\n      <td>Data Science</td>\n      <td>Education Details \\r\\nMay 2013 to May 2017 B.E...</td>\n    </tr>\n    <tr>\n      <th>2</th>\n      <td>Data Science</td>\n      <td>Areas of Interest Deep Learning, Control Syste...</td>\n    </tr>\n    <tr>\n      <th>3</th>\n      <td>Data Science</td>\n      <td>Skills â¢ R â¢ Python â¢ SAP HANA â¢ Table...</td>\n    </tr>\n    <tr>\n      <th>4</th>\n      <td>Data Science</td>\n      <td>Education Details \\r\\n MCA   YMCAUST,  Faridab...</td>\n    </tr>\n    <tr>\n      <th>...</th>\n      <td>...</td>\n      <td>...</td>\n    </tr>\n    <tr>\n      <th>957</th>\n      <td>Testing</td>\n      <td>Computer Skills: â¢ Proficient in MS office (...</td>\n    </tr>\n    <tr>\n      <th>958</th>\n      <td>Testing</td>\n      <td>â Willingness to accept the challenges. â ...</td>\n    </tr>\n    <tr>\n      <th>959</th>\n      <td>Testing</td>\n      <td>PERSONAL SKILLS â¢ Quick learner, â¢ Eagerne...</td>\n    </tr>\n    <tr>\n      <th>960</th>\n      <td>Testing</td>\n      <td>COMPUTER SKILLS &amp; SOFTWARE KNOWLEDGE MS-Power ...</td>\n    </tr>\n    <tr>\n      <th>961</th>\n      <td>Testing</td>\n      <td>Skill Set OS Windows XP/7/8/8.1/10 Database MY...</td>\n    </tr>\n  </tbody>\n</table>\n<p>962 rows × 2 columns</p>\n</div>"
          },
          "metadata": {}
        }
      ]
    },
    {
      "cell_type": "code",
      "source": [],
      "metadata": {
        "id": "4_gRKdkPdUkU"
      },
      "execution_count": null,
      "outputs": []
    },
    {
      "cell_type": "code",
      "source": [
        "df[\"Category\"].unique()"
      ],
      "metadata": {
        "execution": {
          "iopub.status.busy": "2023-09-13T10:25:03.141420Z",
          "iopub.execute_input": "2023-09-13T10:25:03.141879Z",
          "iopub.status.idle": "2023-09-13T10:25:03.155345Z",
          "shell.execute_reply.started": "2023-09-13T10:25:03.141843Z",
          "shell.execute_reply": "2023-09-13T10:25:03.154149Z"
        },
        "trusted": true,
        "id": "hRDyJaWcdUkU",
        "outputId": "6fd119b0-a38d-4cf9-b5e1-d8c9b7e77da4"
      },
      "execution_count": null,
      "outputs": [
        {
          "execution_count": 3,
          "output_type": "execute_result",
          "data": {
            "text/plain": "array(['Data Science', 'HR', 'Advocate', 'Arts', 'Web Designing',\n       'Mechanical Engineer', 'Sales', 'Health and fitness',\n       'Civil Engineer', 'Java Developer', 'Business Analyst',\n       'SAP Developer', 'Automation Testing', 'Electrical Engineering',\n       'Operations Manager', 'Python Developer', 'DevOps Engineer',\n       'Network Security Engineer', 'PMO', 'Database', 'Hadoop',\n       'ETL Developer', 'DotNet Developer', 'Blockchain', 'Testing'],\n      dtype=object)"
          },
          "metadata": {}
        }
      ]
    },
    {
      "cell_type": "code",
      "source": [
        "pip install pdfminer.six"
      ],
      "metadata": {
        "execution": {
          "iopub.status.busy": "2023-09-13T10:25:15.530845Z",
          "iopub.execute_input": "2023-09-13T10:25:15.531242Z",
          "iopub.status.idle": "2023-09-13T10:25:30.212751Z",
          "shell.execute_reply.started": "2023-09-13T10:25:15.531212Z",
          "shell.execute_reply": "2023-09-13T10:25:30.211421Z"
        },
        "trusted": true,
        "id": "nRj6E68qdUkV",
        "outputId": "3807cd9c-2581-4e8c-946b-b288063d7d25"
      },
      "execution_count": null,
      "outputs": [
        {
          "name": "stdout",
          "text": "Collecting pdfminer.six\n  Downloading pdfminer.six-20221105-py3-none-any.whl (5.6 MB)\n\u001b[2K     \u001b[90m━━━━━━━━━━━━━━━━━━━━━━━━━━━━━━━━━━━━━━━━\u001b[0m \u001b[32m5.6/5.6 MB\u001b[0m \u001b[31m53.2 MB/s\u001b[0m eta \u001b[36m0:00:00\u001b[0m00:01\u001b[0m00:01\u001b[0m\n\u001b[?25hRequirement already satisfied: charset-normalizer>=2.0.0 in /opt/conda/lib/python3.10/site-packages (from pdfminer.six) (3.1.0)\nRequirement already satisfied: cryptography>=36.0.0 in /opt/conda/lib/python3.10/site-packages (from pdfminer.six) (38.0.4)\nRequirement already satisfied: cffi>=1.12 in /opt/conda/lib/python3.10/site-packages (from cryptography>=36.0.0->pdfminer.six) (1.15.1)\nRequirement already satisfied: pycparser in /opt/conda/lib/python3.10/site-packages (from cffi>=1.12->cryptography>=36.0.0->pdfminer.six) (2.21)\nInstalling collected packages: pdfminer.six\nSuccessfully installed pdfminer.six-20221105\nNote: you may need to restart the kernel to use updated packages.\n",
          "output_type": "stream"
        }
      ]
    },
    {
      "cell_type": "code",
      "source": [
        "import pandas as pd\n",
        "df=pd.read_csv(\"/kaggle/input/resume-dataset/UpdatedResumeDataSet.csv\")\n",
        "df[:3]"
      ],
      "metadata": {
        "execution": {
          "iopub.status.busy": "2023-09-13T11:02:20.258653Z",
          "iopub.execute_input": "2023-09-13T11:02:20.259086Z",
          "iopub.status.idle": "2023-09-13T11:02:20.312060Z",
          "shell.execute_reply.started": "2023-09-13T11:02:20.259051Z",
          "shell.execute_reply": "2023-09-13T11:02:20.311123Z"
        },
        "trusted": true,
        "id": "OnUDxYCxdUkX",
        "outputId": "9a761e3a-1c46-4e2a-f18c-6387933b9d6c"
      },
      "execution_count": null,
      "outputs": [
        {
          "execution_count": 53,
          "output_type": "execute_result",
          "data": {
            "text/plain": "       Category                                             Resume\n0  Data Science  Skills * Programming Languages: Python (pandas...\n1  Data Science  Education Details \\r\\nMay 2013 to May 2017 B.E...\n2  Data Science  Areas of Interest Deep Learning, Control Syste...",
            "text/html": "<div>\n<style scoped>\n    .dataframe tbody tr th:only-of-type {\n        vertical-align: middle;\n    }\n\n    .dataframe tbody tr th {\n        vertical-align: top;\n    }\n\n    .dataframe thead th {\n        text-align: right;\n    }\n</style>\n<table border=\"1\" class=\"dataframe\">\n  <thead>\n    <tr style=\"text-align: right;\">\n      <th></th>\n      <th>Category</th>\n      <th>Resume</th>\n    </tr>\n  </thead>\n  <tbody>\n    <tr>\n      <th>0</th>\n      <td>Data Science</td>\n      <td>Skills * Programming Languages: Python (pandas...</td>\n    </tr>\n    <tr>\n      <th>1</th>\n      <td>Data Science</td>\n      <td>Education Details \\r\\nMay 2013 to May 2017 B.E...</td>\n    </tr>\n    <tr>\n      <th>2</th>\n      <td>Data Science</td>\n      <td>Areas of Interest Deep Learning, Control Syste...</td>\n    </tr>\n  </tbody>\n</table>\n</div>"
          },
          "metadata": {}
        }
      ]
    },
    {
      "cell_type": "code",
      "source": [
        "df[\"clean_Resume\"]=''\n",
        "df.info()"
      ],
      "metadata": {
        "execution": {
          "iopub.status.busy": "2023-09-13T11:02:22.950966Z",
          "iopub.execute_input": "2023-09-13T11:02:22.951394Z",
          "iopub.status.idle": "2023-09-13T11:02:22.966502Z",
          "shell.execute_reply.started": "2023-09-13T11:02:22.951360Z",
          "shell.execute_reply": "2023-09-13T11:02:22.965186Z"
        },
        "trusted": true,
        "id": "kLiUgXymdUkZ",
        "outputId": "fcf9e02d-f270-4776-8f92-6b599bea4cca"
      },
      "execution_count": null,
      "outputs": [
        {
          "name": "stdout",
          "text": "<class 'pandas.core.frame.DataFrame'>\nRangeIndex: 962 entries, 0 to 961\nData columns (total 3 columns):\n #   Column        Non-Null Count  Dtype \n---  ------        --------------  ----- \n 0   Category      962 non-null    object\n 1   Resume        962 non-null    object\n 2   clean_Resume  962 non-null    object\ndtypes: object(3)\nmemory usage: 22.7+ KB\n",
          "output_type": "stream"
        }
      ]
    },
    {
      "cell_type": "code",
      "source": [
        "import re\n",
        "def cleanResume(resumeText):\n",
        "    resumeText = re.sub('http\\S+\\s*', ' ', resumeText)  # remove URLs\n",
        "    resumeText = re.sub('RT|cc', ' ', resumeText)  # remove RT and cc\n",
        "    resumeText = re.sub('#\\S+', '', resumeText)  # remove hashtags\n",
        "    resumeText = re.sub('@\\S+', '  ', resumeText)  # remove mentions\n",
        "    resumeText = re.sub('[%s]' % re.escape(\"\"\"!\"#$%&'()*+,-./:;<=>?@[\\]^_`{|}~\"\"\"), ' ', resumeText)  # remove punctuations\n",
        "    resumeText = re.sub(r'[^\\x00-\\x7f]',r' ', resumeText)\n",
        "    resumeText = re.sub('\\s+', ' ', resumeText)  # remove extra whitespace\n",
        "    return resumeText\n",
        "\n",
        "df['clean_Resume'] = df.Resume.apply(lambda x: cleanResume(x))"
      ],
      "metadata": {
        "execution": {
          "iopub.status.busy": "2023-09-13T13:57:27.681065Z",
          "iopub.execute_input": "2023-09-13T13:57:27.681985Z",
          "iopub.status.idle": "2023-09-13T13:57:27.690084Z",
          "shell.execute_reply.started": "2023-09-13T13:57:27.681940Z",
          "shell.execute_reply": "2023-09-13T13:57:27.688595Z"
        },
        "trusted": true,
        "id": "ETax0phvdUkZ"
      },
      "execution_count": null,
      "outputs": []
    },
    {
      "cell_type": "markdown",
      "source": [
        "# making a copy of clean data in 'data'"
      ],
      "metadata": {
        "id": "7xNoI0pmdUkb"
      }
    },
    {
      "cell_type": "code",
      "source": [
        "from sklearn.preprocessing import LabelEncoder\n",
        "data=pd.DataFrame()\n",
        "data[['Resume','Category']]=df[['clean_Resume','Category']]\n",
        "le = LabelEncoder()\n",
        "data['Category'] = le.fit_transform(data['Category'])\n",
        "data"
      ],
      "metadata": {
        "execution": {
          "iopub.status.busy": "2023-09-13T11:03:32.624541Z",
          "iopub.execute_input": "2023-09-13T11:03:32.624977Z",
          "iopub.status.idle": "2023-09-13T11:03:32.643686Z",
          "shell.execute_reply.started": "2023-09-13T11:03:32.624943Z",
          "shell.execute_reply": "2023-09-13T11:03:32.642545Z"
        },
        "trusted": true,
        "id": "3-MFl0gHdUkg",
        "outputId": "461e6fb6-d7ae-4aef-fea9-66015c058ac0"
      },
      "execution_count": null,
      "outputs": [
        {
          "execution_count": 56,
          "output_type": "execute_result",
          "data": {
            "text/plain": "                                                Resume  Category\n0    Skills Programming Languages Python pandas num...         6\n1    Education Details May 2013 to May 2017 B E UIT...         6\n2    Areas of Interest Deep Learning Control System...         6\n3    Skills R Python SAP HANA Tableau SAP HANA SQL ...         6\n4    Education Details MCA YMCAUST Faridabad Haryan...         6\n..                                                 ...       ...\n957  Computer Skills Proficient in MS office Word B...        23\n958   Willingness to a ept the challenges Positive ...        23\n959  PERSONAL SKILLS Quick learner Eagerness to lea...        23\n960  COMPUTER SKILLS SOFTWARE KNOWLEDGE MS Power Po...        23\n961  Skill Set OS Windows XP 7 8 8 1 10 Database MY...        23\n\n[962 rows x 2 columns]",
            "text/html": "<div>\n<style scoped>\n    .dataframe tbody tr th:only-of-type {\n        vertical-align: middle;\n    }\n\n    .dataframe tbody tr th {\n        vertical-align: top;\n    }\n\n    .dataframe thead th {\n        text-align: right;\n    }\n</style>\n<table border=\"1\" class=\"dataframe\">\n  <thead>\n    <tr style=\"text-align: right;\">\n      <th></th>\n      <th>Resume</th>\n      <th>Category</th>\n    </tr>\n  </thead>\n  <tbody>\n    <tr>\n      <th>0</th>\n      <td>Skills Programming Languages Python pandas num...</td>\n      <td>6</td>\n    </tr>\n    <tr>\n      <th>1</th>\n      <td>Education Details May 2013 to May 2017 B E UIT...</td>\n      <td>6</td>\n    </tr>\n    <tr>\n      <th>2</th>\n      <td>Areas of Interest Deep Learning Control System...</td>\n      <td>6</td>\n    </tr>\n    <tr>\n      <th>3</th>\n      <td>Skills R Python SAP HANA Tableau SAP HANA SQL ...</td>\n      <td>6</td>\n    </tr>\n    <tr>\n      <th>4</th>\n      <td>Education Details MCA YMCAUST Faridabad Haryan...</td>\n      <td>6</td>\n    </tr>\n    <tr>\n      <th>...</th>\n      <td>...</td>\n      <td>...</td>\n    </tr>\n    <tr>\n      <th>957</th>\n      <td>Computer Skills Proficient in MS office Word B...</td>\n      <td>23</td>\n    </tr>\n    <tr>\n      <th>958</th>\n      <td>Willingness to a ept the challenges Positive ...</td>\n      <td>23</td>\n    </tr>\n    <tr>\n      <th>959</th>\n      <td>PERSONAL SKILLS Quick learner Eagerness to lea...</td>\n      <td>23</td>\n    </tr>\n    <tr>\n      <th>960</th>\n      <td>COMPUTER SKILLS SOFTWARE KNOWLEDGE MS Power Po...</td>\n      <td>23</td>\n    </tr>\n    <tr>\n      <th>961</th>\n      <td>Skill Set OS Windows XP 7 8 8 1 10 Database MY...</td>\n      <td>23</td>\n    </tr>\n  </tbody>\n</table>\n<p>962 rows × 2 columns</p>\n</div>"
          },
          "metadata": {}
        }
      ]
    },
    {
      "cell_type": "markdown",
      "source": [
        "# checking words"
      ],
      "metadata": {
        "id": "_AC5FKk7dUkj"
      }
    },
    {
      "cell_type": "code",
      "source": [
        "import nltk\n",
        "from nltk.corpus import stopwords\n",
        "import string\n",
        "\n",
        "oneSetOfStopWords = set(stopwords.words('english')+['``',\"''\"])\n",
        "totalWords =[]\n",
        "Sentences = data['Resume'].values\n",
        "cleanedSentences = \"\"\n",
        "for records in Sentences:\n",
        "    cleanedText = cleanResume(records)\n",
        "    cleanedSentences += cleanedText\n",
        "    requiredWords = nltk.word_tokenize(cleanedText)\n",
        "    for word in requiredWords:\n",
        "        if word not in oneSetOfStopWords and word not in string.punctuation:\n",
        "            totalWords.append(word)\n",
        "\n",
        "wordfreqdist = nltk.FreqDist(totalWords)\n",
        "mostcommon = wordfreqdist.most_common(50)\n"
      ],
      "metadata": {
        "execution": {
          "iopub.status.busy": "2023-09-13T14:33:00.212238Z",
          "iopub.execute_input": "2023-09-13T14:33:00.212644Z",
          "iopub.status.idle": "2023-09-13T14:33:27.533253Z",
          "shell.execute_reply.started": "2023-09-13T14:33:00.212612Z",
          "shell.execute_reply": "2023-09-13T14:33:27.531759Z"
        },
        "trusted": true,
        "id": "aSDhwqnNdUkk",
        "outputId": "27c8a438-9335-463c-c53d-391f2f145283"
      },
      "execution_count": null,
      "outputs": [
        {
          "name": "stdout",
          "text": "[('State', 15351), ('City', 14960), ('Company', 11932), ('Name', 11653), ('A', 7200), ('management', 7011), ('customer', 6156), ('sales', 5645), ('new', 5518), ('Management', 5085), ('team', 4728), ('I', 4710), ('business', 4462), ('service', 4427), ('skills', 4188), ('including', 4003), ('development', 3845), ('training', 3798), ('work', 3514), ('Skills', 3491), ('staff', 3406), ('customers', 3356), ('Education', 3355), ('Manager', 3288), ('company', 3273), ('support', 3223), ('Business', 3183), ('University', 3157), ('financial', 3084), ('project', 3044), ('clients', 3014), ('Experience', 2876), ('data', 2867), ('reports', 2855), ('marketing', 2836), ('ounting', 2829), ('Microsoft', 2811), ('01', 2793), ('2014', 2792), ('ounts', 2769), ('process', 2733), ('experience', 2731), ('client', 2694), ('system', 2669), ('information', 2631), ('2013', 2554), ('quality', 2537), ('systems', 2477), ('Office', 2459), ('procedures', 2415)]\n",
          "output_type": "stream"
        }
      ]
    },
    {
      "cell_type": "code",
      "source": [
        "data.Category.value_counts()"
      ],
      "metadata": {
        "execution": {
          "iopub.status.busy": "2023-09-13T13:48:25.155328Z",
          "iopub.execute_input": "2023-09-13T13:48:25.156368Z",
          "iopub.status.idle": "2023-09-13T13:48:25.165158Z",
          "shell.execute_reply.started": "2023-09-13T13:48:25.156299Z",
          "shell.execute_reply": "2023-09-13T13:48:25.163882Z"
        },
        "trusted": true,
        "id": "yY5EKelAdUkk",
        "outputId": "a2a4c1c0-b88e-48d1-8f53-7df0b7b7a998"
      },
      "execution_count": null,
      "outputs": [
        {
          "execution_count": 17,
          "output_type": "execute_result",
          "data": {
            "text/plain": "Category\n20    120\n9     120\n16    118\n1     118\n0     118\n15    118\n10    118\n6     117\n17    117\n22    116\n7     115\n18    115\n12    115\n11    112\n21    111\n19    110\n13    107\n4     103\n23    102\n3      97\n14     96\n2      63\n5      36\n8      22\nName: count, dtype: int64"
          },
          "metadata": {}
        }
      ]
    },
    {
      "cell_type": "markdown",
      "source": [
        "# Term Frequency- Inverse Document Frequency"
      ],
      "metadata": {
        "id": "fo2MAunhdUkl"
      }
    },
    {
      "cell_type": "code",
      "source": [
        "from sklearn.model_selection import train_test_split\n",
        "from sklearn.feature_extraction.text import TfidfVectorizer\n",
        "from scipy.sparse import hstack\n",
        "\n",
        "requiredText = data['Resume'].values\n",
        "requiredTarget = data['Category'].values\n",
        "\n",
        "word_vectorizer = TfidfVectorizer(\n",
        "    sublinear_tf=True,\n",
        "    stop_words='english')\n",
        "word_vectorizer.fit(requiredText)\n",
        "WordFeatures = word_vectorizer.transform(requiredText)\n",
        "\n",
        "print (\"Feature completed .....\")\n",
        "\n",
        "\n",
        "X_train,X_test,y_train,y_test = train_test_split(WordFeatures,requiredTarget,random_state=42, test_size=0.2,\n",
        "                                                 shuffle=True, stratify=requiredTarget)\n",
        "\n"
      ],
      "metadata": {
        "execution": {
          "iopub.status.busy": "2023-09-13T14:37:32.659014Z",
          "iopub.execute_input": "2023-09-13T14:37:32.659443Z",
          "iopub.status.idle": "2023-09-13T14:37:37.521750Z",
          "shell.execute_reply.started": "2023-09-13T14:37:32.659412Z",
          "shell.execute_reply": "2023-09-13T14:37:37.520565Z"
        },
        "trusted": true,
        "id": "wwLhb4GidUkm",
        "outputId": "a82f4f1f-8f6d-4222-d9cd-36561abe6e90"
      },
      "execution_count": null,
      "outputs": [
        {
          "name": "stdout",
          "text": "Feature completed .....\n",
          "output_type": "stream"
        }
      ]
    },
    {
      "cell_type": "code",
      "source": [
        "data.Category"
      ],
      "metadata": {
        "execution": {
          "iopub.status.busy": "2023-09-13T14:14:16.530966Z",
          "iopub.execute_input": "2023-09-13T14:14:16.531374Z",
          "iopub.status.idle": "2023-09-13T14:14:16.540950Z",
          "shell.execute_reply.started": "2023-09-13T14:14:16.531345Z",
          "shell.execute_reply": "2023-09-13T14:14:16.539725Z"
        },
        "trusted": true,
        "id": "-BfTnT8wdUko",
        "outputId": "faea7a4b-81ac-4472-b29a-2d7f3f5b2a0a"
      },
      "execution_count": null,
      "outputs": [
        {
          "execution_count": 21,
          "output_type": "execute_result",
          "data": {
            "text/plain": "0       19\n1       19\n2       19\n3       19\n4       19\n        ..\n2479     6\n2480     6\n2481     6\n2482     6\n2483     6\nName: Category, Length: 2484, dtype: int64"
          },
          "metadata": {}
        }
      ]
    },
    {
      "cell_type": "code",
      "source": [
        "from sklearn.multiclass import OneVsRestClassifier\n",
        "from sklearn.neighbors import KNeighborsClassifier\n",
        "clf = OneVsRestClassifier(KNeighborsClassifier())\n",
        "clf.fit(X_train, y_train)\n",
        "prediction = clf.predict(X_test)"
      ],
      "metadata": {
        "execution": {
          "iopub.status.busy": "2023-09-13T12:50:13.963459Z",
          "iopub.execute_input": "2023-09-13T12:50:13.963857Z",
          "iopub.status.idle": "2023-09-13T13:07:32.377333Z",
          "shell.execute_reply.started": "2023-09-13T12:50:13.963827Z",
          "shell.execute_reply": "2023-09-13T13:07:32.376337Z"
        },
        "trusted": true,
        "id": "IQr8oo4pdUkp"
      },
      "execution_count": null,
      "outputs": []
    },
    {
      "cell_type": "code",
      "source": [
        "print('Accuracy of KNeighbors Classifier on train set:     {:.2f}'.format(clf.score(X_train, y_train)))\n",
        "print('Accuracy of KNeighbors Classifier on test set:     {:.2f}'.format(clf.score(X_test, y_test)))"
      ],
      "metadata": {
        "execution": {
          "iopub.status.busy": "2023-09-13T11:11:41.339261Z",
          "iopub.execute_input": "2023-09-13T11:11:41.340510Z",
          "iopub.status.idle": "2023-09-13T11:15:44.476400Z",
          "shell.execute_reply.started": "2023-09-13T11:11:41.340441Z",
          "shell.execute_reply": "2023-09-13T11:15:44.475427Z"
        },
        "trusted": true,
        "id": "zxOWmytldUkq",
        "outputId": "d5f29ae9-09b7-48c0-8494-b228b0cc0ebe"
      },
      "execution_count": null,
      "outputs": [
        {
          "name": "stdout",
          "text": "Accuracy of KNeighbors Classifier on train set:     0.99\nAccuracy of KNeighbors Classifier on test set:     0.98\n",
          "output_type": "stream"
        }
      ]
    },
    {
      "cell_type": "markdown",
      "source": [
        "pdf extraction"
      ],
      "metadata": {
        "id": "TR4qBmr4eHZ7"
      }
    },
    {
      "cell_type": "code",
      "source": [
        "from pdfminer.high_level import extract_text\n",
        "from nltk.corpus import stopwords\n",
        "from nltk.tokenize import word_tokenize\n",
        "\n",
        "paths=['/kaggle/input/d/snehaanbhawal/resume-dataset/data/data/ENGINEERING/10030015.pdf',\n",
        "      '/kaggle/input/d/snehaanbhawal/resume-dataset/data/data/CHEF/10001727.pdf']\n",
        "preprocessed_texts=[]\n",
        "for path in paths:\n",
        "    txt=extract_text(path)\n",
        "    tokens = word_tokenize(txt)\n",
        "    sw = set(stopwords.words('english')+['``',\"''\"]+[','])\n",
        "    filtered_tokens = [w for w in tokens if w.lower() not in sw]\n",
        "    preprocessed_text = ' '.join(filtered_tokens)\n",
        "    preprocessed_texts.append(preprocessed_text)"
      ],
      "metadata": {
        "execution": {
          "iopub.status.busy": "2023-09-13T11:09:43.580658Z",
          "iopub.execute_input": "2023-09-13T11:09:43.581741Z",
          "iopub.status.idle": "2023-09-13T11:09:45.217468Z",
          "shell.execute_reply.started": "2023-09-13T11:09:43.581693Z",
          "shell.execute_reply": "2023-09-13T11:09:45.216350Z"
        },
        "trusted": true,
        "id": "ZJFfaa9idUkr"
      },
      "execution_count": null,
      "outputs": []
    },
    {
      "cell_type": "code",
      "source": [
        "# Apply the word_vectorizer to transform the preprocessed text into TF-IDF features\n",
        "tfidf_features = word_vectorizer.transform(preprocessed_texts)\n",
        "prediction = clf.predict(tfidf_features)\n",
        "predicted_categories=le.inverse_transform(prediction)"
      ],
      "metadata": {
        "execution": {
          "iopub.status.busy": "2023-09-13T11:09:50.495985Z",
          "iopub.execute_input": "2023-09-13T11:09:50.496396Z",
          "iopub.status.idle": "2023-09-13T11:09:51.240256Z",
          "shell.execute_reply.started": "2023-09-13T11:09:50.496364Z",
          "shell.execute_reply": "2023-09-13T11:09:51.239302Z"
        },
        "trusted": true,
        "id": "j5QaIBJCdUks"
      },
      "execution_count": null,
      "outputs": []
    },
    {
      "cell_type": "markdown",
      "source": [
        "Result"
      ],
      "metadata": {
        "id": "XysMBhIpeDJu"
      }
    },
    {
      "cell_type": "code",
      "source": [
        "for pre in predicted_categories:\n",
        "    print(\"predicted:\",pre)"
      ],
      "metadata": {
        "execution": {
          "iopub.status.busy": "2023-09-13T11:09:56.188276Z",
          "iopub.execute_input": "2023-09-13T11:09:56.188731Z",
          "iopub.status.idle": "2023-09-13T11:09:56.195170Z",
          "shell.execute_reply.started": "2023-09-13T11:09:56.188695Z",
          "shell.execute_reply": "2023-09-13T11:09:56.193874Z"
        },
        "trusted": true,
        "id": "3nm_2GUFdUks",
        "outputId": "73fb1097-7ec9-4aed-8bcd-8667b6744736"
      },
      "execution_count": null,
      "outputs": [
        {
          "name": "stdout",
          "text": "predicted: Testing\npredicted: Operations Manager\n",
          "output_type": "stream"
        }
      ]
    },
    {
      "cell_type": "markdown",
      "source": [
        "# ----------------------------------------------------------------"
      ],
      "metadata": {
        "id": "fzAFh7OFdUkt"
      }
    },
    {
      "cell_type": "markdown",
      "source": [
        "# Apply on Job Discription dataset2 (Term Frequency- Inverse Document Frequency)"
      ],
      "metadata": {
        "id": "fmqw2wj4eShA"
      }
    },
    {
      "cell_type": "code",
      "source": [
        "import re\n",
        "import pandas as pd\n",
        "xdf=pd.read_csv('/kaggle/input/d/snehaanbhawal/resume-dataset/Resume/Resume.csv')\n",
        "jobs = pd.DataFrame()\n",
        "jobs['job'] = xdf.Resume_str\n",
        "jobs['Category']=xdf.Category\n",
        "jobs.columns"
      ],
      "metadata": {
        "execution": {
          "iopub.status.busy": "2023-09-13T15:18:07.838197Z",
          "iopub.execute_input": "2023-09-13T15:18:07.838635Z",
          "iopub.status.idle": "2023-09-13T15:18:08.710829Z",
          "shell.execute_reply.started": "2023-09-13T15:18:07.838604Z",
          "shell.execute_reply": "2023-09-13T15:18:08.709562Z"
        },
        "trusted": true,
        "id": "Aq98sgl5dUku",
        "outputId": "a36d5335-5a1e-48ca-df9b-7fb0f4f9d29b"
      },
      "execution_count": null,
      "outputs": [
        {
          "execution_count": 79,
          "output_type": "execute_result",
          "data": {
            "text/plain": "Index(['job', 'Category'], dtype='object')"
          },
          "metadata": {}
        }
      ]
    },
    {
      "cell_type": "code",
      "source": [
        "\n",
        "def cleanResume(resumeText):\n",
        "    resumeText = re.sub('http\\S+\\s*', ' ', resumeText)  # remove URLs\n",
        "    resumeText = re.sub('RT|cc', ' ', resumeText)  # remove RT and cc\n",
        "    resumeText = re.sub('#\\S+', '', resumeText)  # remove hashtags\n",
        "    resumeText = re.sub('@\\S+', '  ', resumeText)  # remove mentions\n",
        "    resumeText = re.sub('[%s]' % re.escape(\"\"\"!\"#$%&'()*+,-./:;<=>?@[\\]^_`{|}~\"\"\"), ' ', resumeText)  # remove punctuations\n",
        "    resumeText = re.sub(r'[^\\x00-\\x7f]',r' ', resumeText)\n",
        "    resumeText = re.sub('\\s+', ' ', resumeText)  # remove extra whitespace\n",
        "    return resumeText"
      ],
      "metadata": {
        "execution": {
          "iopub.status.busy": "2023-09-13T15:18:26.853405Z",
          "iopub.execute_input": "2023-09-13T15:18:26.853866Z",
          "iopub.status.idle": "2023-09-13T15:18:26.861798Z",
          "shell.execute_reply.started": "2023-09-13T15:18:26.853831Z",
          "shell.execute_reply": "2023-09-13T15:18:26.860821Z"
        },
        "trusted": true,
        "id": "yLuW9HPfdUkv"
      },
      "execution_count": null,
      "outputs": []
    },
    {
      "cell_type": "code",
      "source": [
        "from sklearn.preprocessing import LabelEncoder\n",
        "data=pd.DataFrame()\n",
        "data[['Resume','Category']]=jobs[['job','Category']]\n",
        "le = LabelEncoder()\n",
        "data['Category'] = le.fit_transform(data['Category'])\n",
        "data['Resume'] = data.Resume.apply(lambda x: cleanResume(x))\n",
        "data"
      ],
      "metadata": {
        "execution": {
          "iopub.status.busy": "2023-09-13T15:32:42.082993Z",
          "iopub.execute_input": "2023-09-13T15:32:42.083405Z",
          "iopub.status.idle": "2023-09-13T15:32:44.740578Z",
          "shell.execute_reply.started": "2023-09-13T15:32:42.083374Z",
          "shell.execute_reply": "2023-09-13T15:32:44.739413Z"
        },
        "trusted": true,
        "id": "Zp9lDKiTdUkw",
        "outputId": "05c9545d-c051-4776-94bf-5d1d0470ae3f"
      },
      "execution_count": null,
      "outputs": [
        {
          "execution_count": 90,
          "output_type": "execute_result",
          "data": {
            "text/plain": "                                                 Resume  Category\n0      HR ADMINISTRATOR MARKETING ASSOCIATE HR ADMIN...        19\n1      HR SPECIALIST US HR OPERATIONS Summary Versat...        19\n2      HR DIRECTOR Summary Over 20 years experience ...        19\n3      HR SPECIALIST Summary Dedicated Driven and Dy...        19\n4      HR MANAGER Skill Highlights HR SKILLS HR Depa...        19\n...                                                 ...       ...\n2479   RANK SGT E 5 NON COMMISSIONED OFFICER IN CHAR...         6\n2480   GOVERNMENT RELATIONS COMMUNICATIONS AND ORGAN...         6\n2481   GEEK SQUAD AGENT Professional Profile IT supp...         6\n2482   PROGRAM DIRECTOR OFFICE MANAGER Summary Highl...         6\n2483   STOREKEEPER II Professional Summary The purpo...         6\n\n[2484 rows x 2 columns]",
            "text/html": "<div>\n<style scoped>\n    .dataframe tbody tr th:only-of-type {\n        vertical-align: middle;\n    }\n\n    .dataframe tbody tr th {\n        vertical-align: top;\n    }\n\n    .dataframe thead th {\n        text-align: right;\n    }\n</style>\n<table border=\"1\" class=\"dataframe\">\n  <thead>\n    <tr style=\"text-align: right;\">\n      <th></th>\n      <th>Resume</th>\n      <th>Category</th>\n    </tr>\n  </thead>\n  <tbody>\n    <tr>\n      <th>0</th>\n      <td>HR ADMINISTRATOR MARKETING ASSOCIATE HR ADMIN...</td>\n      <td>19</td>\n    </tr>\n    <tr>\n      <th>1</th>\n      <td>HR SPECIALIST US HR OPERATIONS Summary Versat...</td>\n      <td>19</td>\n    </tr>\n    <tr>\n      <th>2</th>\n      <td>HR DIRECTOR Summary Over 20 years experience ...</td>\n      <td>19</td>\n    </tr>\n    <tr>\n      <th>3</th>\n      <td>HR SPECIALIST Summary Dedicated Driven and Dy...</td>\n      <td>19</td>\n    </tr>\n    <tr>\n      <th>4</th>\n      <td>HR MANAGER Skill Highlights HR SKILLS HR Depa...</td>\n      <td>19</td>\n    </tr>\n    <tr>\n      <th>...</th>\n      <td>...</td>\n      <td>...</td>\n    </tr>\n    <tr>\n      <th>2479</th>\n      <td>RANK SGT E 5 NON COMMISSIONED OFFICER IN CHAR...</td>\n      <td>6</td>\n    </tr>\n    <tr>\n      <th>2480</th>\n      <td>GOVERNMENT RELATIONS COMMUNICATIONS AND ORGAN...</td>\n      <td>6</td>\n    </tr>\n    <tr>\n      <th>2481</th>\n      <td>GEEK SQUAD AGENT Professional Profile IT supp...</td>\n      <td>6</td>\n    </tr>\n    <tr>\n      <th>2482</th>\n      <td>PROGRAM DIRECTOR OFFICE MANAGER Summary Highl...</td>\n      <td>6</td>\n    </tr>\n    <tr>\n      <th>2483</th>\n      <td>STOREKEEPER II Professional Summary The purpo...</td>\n      <td>6</td>\n    </tr>\n  </tbody>\n</table>\n<p>2484 rows × 2 columns</p>\n</div>"
          },
          "metadata": {}
        }
      ]
    },
    {
      "cell_type": "code",
      "source": [
        "import nltk\n",
        "from nltk.corpus import stopwords\n",
        "import string\n",
        "\n",
        "oneSetOfStopWords = set(stopwords.words('english')+['``',\"''\"])\n",
        "totalWords =[]\n",
        "Sentences = data['Resume'].values\n",
        "cleanedSentences = \"\"\n",
        "for records in Sentences:\n",
        "    cleanedText = cleanResume(records)\n",
        "    cleanedSentences += cleanedText\n",
        "    requiredWords = nltk.word_tokenize(cleanedText)\n",
        "    for word in requiredWords:\n",
        "        if word not in oneSetOfStopWords and word not in string.punctuation:\n",
        "            totalWords.append(word)\n",
        "\n",
        "wordfreqdist = nltk.FreqDist(totalWords)\n",
        "mostcommon = wordfreqdist.most_common(50)\n"
      ],
      "metadata": {
        "execution": {
          "iopub.status.busy": "2023-09-13T15:32:55.775406Z",
          "iopub.execute_input": "2023-09-13T15:32:55.775804Z",
          "iopub.status.idle": "2023-09-13T15:33:23.129404Z",
          "shell.execute_reply.started": "2023-09-13T15:32:55.775773Z",
          "shell.execute_reply": "2023-09-13T15:33:23.128159Z"
        },
        "trusted": true,
        "id": "FRxtdIeIdUkw"
      },
      "execution_count": null,
      "outputs": []
    },
    {
      "cell_type": "code",
      "source": [
        "from nltk.corpus import stopwords\n",
        "from nltk.tokenize import word_tokenize\n",
        "\n",
        "def remove_mostcommon(txt,rm_txt):\n",
        "    tokens = word_tokenize(txt)\n",
        "    filter_words = [tag for tag in tokens if tag not in rm_txt]\n",
        "    return ' '.join(filter_words)\n",
        "\n",
        "\n",
        "#data['Resume']=data['Resume'].apply(lambda x: remove_mostcommon(x,mostcommon[:10]))\n",
        "data['Resume']=data['Resume'].apply(lambda x: remove_mostcommon(x,oneSetOfStopWords))\n"
      ],
      "metadata": {
        "execution": {
          "iopub.status.busy": "2023-09-13T15:35:50.926430Z",
          "iopub.execute_input": "2023-09-13T15:35:50.927016Z",
          "iopub.status.idle": "2023-09-13T15:36:11.179333Z",
          "shell.execute_reply.started": "2023-09-13T15:35:50.926972Z",
          "shell.execute_reply": "2023-09-13T15:36:11.178368Z"
        },
        "trusted": true,
        "id": "7R75kPpFdUkx"
      },
      "execution_count": null,
      "outputs": []
    },
    {
      "cell_type": "code",
      "source": [
        "remove_mostcommon(\"hello how are you are you ok\",['are'])"
      ],
      "metadata": {
        "execution": {
          "iopub.status.busy": "2023-09-13T15:16:33.198410Z",
          "iopub.execute_input": "2023-09-13T15:16:33.199472Z",
          "iopub.status.idle": "2023-09-13T15:16:33.209160Z",
          "shell.execute_reply.started": "2023-09-13T15:16:33.199410Z",
          "shell.execute_reply": "2023-09-13T15:16:33.207726Z"
        },
        "trusted": true,
        "id": "ot9PSyQxdUky",
        "outputId": "b511fd3b-f32d-400d-804c-1835e79d2216"
      },
      "execution_count": null,
      "outputs": [
        {
          "execution_count": 75,
          "output_type": "execute_result",
          "data": {
            "text/plain": "'hello how you you ok'"
          },
          "metadata": {}
        }
      ]
    },
    {
      "cell_type": "code",
      "source": [
        "data['Resume'][0]"
      ],
      "metadata": {
        "execution": {
          "iopub.status.busy": "2023-09-13T15:31:17.562098Z",
          "iopub.execute_input": "2023-09-13T15:31:17.562542Z",
          "iopub.status.idle": "2023-09-13T15:31:17.570911Z",
          "shell.execute_reply.started": "2023-09-13T15:31:17.562509Z",
          "shell.execute_reply": "2023-09-13T15:31:17.569733Z"
        },
        "trusted": true,
        "id": "xOzqKiWqdUky",
        "outputId": "4daddff5-7e24-4e9e-b7dc-4b19a368ff95"
      },
      "execution_count": null,
      "outputs": [
        {
          "execution_count": 87,
          "output_type": "execute_result",
          "data": {
            "text/plain": "'HR ADMINISTRATOR MARKETING ASSOCIATE HR ADMINISTRATOR Summary Dedicated Customer Service Manager 15 years experience Hospitality Customer Service Management Respected builder leader customer focused teams strives instill shared enthusiastic commitment customer service Highlights Focused customer satisfaction Team management Marketing savvy Conflict resolution techniques Training development Skilled multi tasker Client relations specialist A omplishments Missouri DOT Supervisor Training Certification Certified IHG Customer Loyalty Marketing Segment Hilton Worldwide General Manager Training Certification A omplished Trainer cross server hospitality systems Hilton OnQ Micros Opera PMS Fidelio OPERA Reservation System ORS Holidex Completed courses seminars customer service sales strategies inventory control loss prevention safety time management leadership performance assessment Experience HR Administrator Marketing Associate HR Administrator Dec 2013 Current Company Name City State Helps develop policies directs coordinates activities employment compensation labor relations benefits training employee services Prepares employee separation notices related documentation Keeps records benefits plans participation insurance pension plan personnel transactions hires promotions transfers performance reviews terminations employee statistics government reporting Advises management appropriate resolution employee relations issues Administers benefits programs life health dental insurance pension plans vacation sick leave leave absence employee assistance Marketing Associate Designed created marketing collateral sales meetings trade shows company executives Managed house advertising program consisting print media collateral pieces Assisted complete design launch company website 2 months Created official company page Facebook facilitate interaction customers Analyzed ratings programming features competitors evaluate effectiveness marketing strategies Advanced Medical Claims Analyst Mar 2012 Dec 2013 Company Name City State Reviewed medical bills uracy treatments tests hospital stays prior sanctioning claims Trained interpret codes ICD 9 CPT terminology commonly used medical billing fully understand paperwork submitted healthcare providers Required organizational analytical skills well computer skills knowledge medical terminology procedures statistics billing standards data analysis laws regarding medical billing Assistant General Manager Jun 2010 Dec 2010 Company Name City State Performed duties including limited budgeting financial management ounting human resources payroll purchasing Established maintained close working relationships departments hotel ensure maximum operation productivity morale guest service Handled daily operations reported directly corporate office Hired trained staff overall objectives goals emphasis high customer service Marketing Advertising working public relations media government local businesses Chamber Commerce Executive Support Marketing Assistant Jul 2007 Jun 2010 Company Name City State Provided assistance various department heads Executive Marketing Customer Service Human Resources Managed front end operations ensure friendly efficient transactions Ensured swift resolution customer issues preserve customer loyalty complying company policies Exemplified second none customer service delivery interactions customers potential clients Reservation Front Office Manager Jun 2004 Jul 2007 Company Name City State Owner Partner Dec 2001 May 2004 Company Name City State Price Integrity Coordinator Aug 1999 Dec 2001 Company Name City State Education N A Business Administration 1999 Jefferson College City State Business Administration Marketing Advertising High School Diploma College Prep studies 1998 Sainte Genevieve Senior High City State Awarded American Shrubel Leadership Scholarship Jefferson College Skills A ounting ads advertising analytical skills benefits billing budgeting clients Customer Service data analysis delivery documentation employee relations financial management government relations Human Resources insurance labor relations layout Marketing marketing collateral medical billing medical terminology office organizational payroll performance reviews personnel policies posters presentations public relations purchasing reporting statistics website'"
          },
          "metadata": {}
        }
      ]
    },
    {
      "cell_type": "code",
      "source": [
        "from sklearn.model_selection import train_test_split\n",
        "from sklearn.feature_extraction.text import TfidfVectorizer\n",
        "from scipy.sparse import hstack\n",
        "\n",
        "requiredText = data['Resume'].values\n",
        "requiredTarget = data['Category'].values\n",
        "\n",
        "word_vectorizer = TfidfVectorizer(\n",
        "    sublinear_tf=True,\n",
        "    stop_words='english')\n",
        "word_vectorizer.fit(requiredText)\n",
        "WordFeatures = word_vectorizer.transform(requiredText)\n",
        "print (\"Feature completed .....\")\n",
        "\n",
        "X_train,X_test,y_train,y_test = train_test_split(WordFeatures,requiredTarget,random_state=42, test_size=0.2,\n",
        "                                                 shuffle=True, stratify=requiredTarget)"
      ],
      "metadata": {
        "execution": {
          "iopub.status.busy": "2023-09-13T15:36:47.049576Z",
          "iopub.execute_input": "2023-09-13T15:36:47.049979Z",
          "iopub.status.idle": "2023-09-13T15:36:51.413820Z",
          "shell.execute_reply.started": "2023-09-13T15:36:47.049946Z",
          "shell.execute_reply": "2023-09-13T15:36:51.412531Z"
        },
        "trusted": true,
        "id": "sIy_YFr6dUkz",
        "outputId": "67390646-47aa-4e61-d5bb-71f7869bc3b8"
      },
      "execution_count": null,
      "outputs": [
        {
          "name": "stdout",
          "text": "Feature completed .....\n",
          "output_type": "stream"
        }
      ]
    },
    {
      "cell_type": "code",
      "source": [
        "\n",
        "from sklearn.metrics import classification_report\n",
        "from sklearn.ensemble import RandomForestClassifier\n",
        "# Creating the Random Forest Classifier object\n",
        "rfc = RandomForestClassifier(n_estimators=100 )\n",
        "\n",
        "# Fitting the model on the training data\n",
        "rfc.fit(X_train, y_train)\n",
        "\n",
        "# Predicting the target variable on the test data\n",
        "y_pred = rfc.predict(X_test)\n",
        "\n",
        "print(classification_report(y_test, y_pred))\n",
        "\n",
        "from sklearn.metrics import confusion_matrix\n",
        "conf_matrix = confusion_matrix(y_test, y_pred)\n",
        "print(\"Confusion Matrix:\")\n",
        "print(conf_matrix)"
      ],
      "metadata": {
        "execution": {
          "iopub.status.busy": "2023-09-13T15:37:02.720785Z",
          "iopub.execute_input": "2023-09-13T15:37:02.721203Z",
          "iopub.status.idle": "2023-09-13T15:37:08.621231Z",
          "shell.execute_reply.started": "2023-09-13T15:37:02.721168Z",
          "shell.execute_reply": "2023-09-13T15:37:08.619911Z"
        },
        "trusted": true,
        "id": "2OX0uGtRdUkz",
        "outputId": "894c9af0-2f35-4671-838b-e2724db9ff2e"
      },
      "execution_count": null,
      "outputs": [
        {
          "name": "stdout",
          "text": "              precision    recall  f1-score   support\n\n           0       0.54      0.88      0.67        24\n           1       0.65      0.54      0.59        24\n           2       0.75      0.46      0.57        13\n           3       0.70      0.37      0.48        19\n           4       0.50      0.10      0.16        21\n           5       0.00      0.00      0.00         7\n           6       0.83      0.79      0.81        24\n           7       0.76      0.57      0.65        23\n           8       0.00      0.00      0.00         4\n           9       0.38      0.62      0.48        24\n          10       0.73      0.79      0.76        24\n          11       0.72      0.82      0.77        22\n          12       0.56      0.22      0.31        23\n          13       0.80      0.95      0.87        21\n          14       0.64      0.47      0.55        19\n          15       0.62      0.54      0.58        24\n          16       0.75      0.50      0.60        24\n          17       0.77      0.74      0.76        23\n          18       0.52      0.65      0.58        23\n          19       0.72      0.95      0.82        22\n          20       0.62      0.96      0.75        24\n          21       0.47      0.73      0.57        22\n          22       0.40      0.35      0.37        23\n          23       0.53      0.80      0.64        20\n\n    accuracy                           0.62       497\n   macro avg       0.58      0.57      0.56       497\nweighted avg       0.62      0.62      0.60       497\n\nConfusion Matrix:\n[[21  0  0  0  0  0  0  0  0  2  0  0  0  0  0  0  0  0  0  0  0  0  1  0]\n [ 0 13  0  1  0  0  0  0  0  0  0  0  0  0  0  0  0  0  6  1  1  0  1  1]\n [ 0  0  6  0  0  0  0  0  0  0  0  1  0  0  0  2  0  0  1  0  0  2  1  0]\n [ 0  0  0  7  0  0  0  0  0  3  0  0  0  1  0  0  1  1  0  1  0  2  3  0]\n [ 0  0  0  0  2  0  1  0  0  0  0  0  1  0  1  0  0  0  2  0  2  1  1 10]\n [ 1  2  0  0  0  0  1  1  0  0  0  0  0  0  0  1  0  0  0  0  0  0  1  0]\n [ 0  0  0  0  0  0 19  0  0  1  0  0  0  0  0  2  1  0  0  1  0  0  0  0]\n [ 2  2  0  0  0  0  0 13  0  2  0  0  0  1  0  0  0  0  0  1  1  1  0  0]\n [ 0  0  0  0  0  0  0  0  0  2  0  0  0  0  0  0  1  0  1  0  0  0  0  0]\n [ 1  0  0  0  0  0  0  1  0 15  0  0  0  0  1  1  0  0  2  1  0  2  0  0]\n [ 0  1  0  0  0  0  1  0  0  0 19  0  0  0  0  0  0  0  1  0  0  0  1  1]\n [ 0  0  0  0  0  0  0  1  0  1  0 18  0  1  0  1  0  0  0  0  0  0  0  0]\n [ 3  0  1  0  1  0  0  1  0  2  1  0  5  0  1  0  0  1  0  0  2  4  1  0]\n [ 0  0  0  0  0  0  0  0  0  0  0  1  0 20  0  0  0  0  0  0  0  0  0  0]\n [ 0  1  1  0  0  0  0  0  0  1  0  0  1  1  9  0  0  0  0  0  2  3  0  0]\n [ 0  0  0  0  0  0  0  0  0  0  0  4  0  1  0 13  0  0  0  0  5  0  0  1]\n [ 9  0  0  0  0  0  0  0  0  0  1  0  0  0  0  0 12  0  0  1  0  1  0  0]\n [ 0  0  0  0  0  0  0  0  0  3  0  0  0  0  0  0  0 17  0  0  0  1  1  1]\n [ 0  0  0  0  1  0  0  0  0  0  1  0  0  0  1  0  1  2 15  1  1  0  0  0]\n [ 0  1  0  0  0  0  0  0  0  0  0  0  0  0  0  0  0  0  0 21  0  0  0  0]\n [ 0  0  0  0  0  0  0  0  0  0  0  0  1  0  0  0  0  0  0  0 23  0  0  0]\n [ 2  0  0  0  0  0  0  0  0  0  1  0  0  0  1  0  0  0  0  1  0 16  1  0]\n [ 0  0  0  2  0  0  1  0  0  6  3  1  1  0  0  1  0  0  0  0  0  0  8  0]\n [ 0  0  0  0  0  0  0  0  0  1  0  0  0  0  0  0  0  1  1  0  0  1  0 16]]\n",
          "output_type": "stream"
        },
        {
          "name": "stderr",
          "text": "/opt/conda/lib/python3.10/site-packages/sklearn/metrics/_classification.py:1344: UndefinedMetricWarning: Precision and F-score are ill-defined and being set to 0.0 in labels with no predicted samples. Use `zero_division` parameter to control this behavior.\n  _warn_prf(average, modifier, msg_start, len(result))\n/opt/conda/lib/python3.10/site-packages/sklearn/metrics/_classification.py:1344: UndefinedMetricWarning: Precision and F-score are ill-defined and being set to 0.0 in labels with no predicted samples. Use `zero_division` parameter to control this behavior.\n  _warn_prf(average, modifier, msg_start, len(result))\n/opt/conda/lib/python3.10/site-packages/sklearn/metrics/_classification.py:1344: UndefinedMetricWarning: Precision and F-score are ill-defined and being set to 0.0 in labels with no predicted samples. Use `zero_division` parameter to control this behavior.\n  _warn_prf(average, modifier, msg_start, len(result))\n",
          "output_type": "stream"
        }
      ]
    }
  ]
}